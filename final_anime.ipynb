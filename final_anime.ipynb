{
 "cells": [
  {
   "cell_type": "code",
   "execution_count": 1,
   "id": "329699be",
   "metadata": {},
   "outputs": [],
   "source": [
    "import numpy as np \n",
    "import pandas as pd\n",
    "import matplotlib.pyplot as plt\n",
    "import seaborn as sns\n",
    "import os\n",
    "\n",
    "import warnings\n",
    "warnings.filterwarnings('ignore')"
   ]
  },
  {
   "cell_type": "code",
   "execution_count": 2,
   "id": "92226aae",
   "metadata": {},
   "outputs": [],
   "source": [
    "anime1 = pd.read_csv('C:/DCU/anime/1AnimeList.csv')\n",
    "users1 = pd.read_csv('C:/DCU/anime/2UserList.csv')\n",
    "useranimelists1 = pd.read_csv('C:/DCU/anime/3UserAnimeList.csv')"
   ]
  },
  {
   "cell_type": "code",
   "execution_count": 3,
   "id": "c8fb3148",
   "metadata": {},
   "outputs": [
    {
     "name": "stdout",
     "output_type": "stream",
     "text": [
      "Index(['anime_id', 'title', 'title_english', 'title_japanese',\n",
      "       'title_synonyms', 'image_url', 'type', 'source', 'episodes', 'status',\n",
      "       'airing', 'aired_string', 'aired', 'duration', 'rating', 'score',\n",
      "       'scored_by', 'rank', 'popularity', 'members', 'favorites', 'background',\n",
      "       'premiered', 'broadcast', 'related', 'producer', 'licensor', 'studio',\n",
      "       'genre', 'opening_theme', 'ending_theme'],\n",
      "      dtype='object')\n"
     ]
    }
   ],
   "source": [
    "print(anime1.columns)"
   ]
  },
  {
   "cell_type": "code",
   "execution_count": 4,
   "id": "eca1c643",
   "metadata": {},
   "outputs": [
    {
     "name": "stdout",
     "output_type": "stream",
     "text": [
      "Index(['anime_id', 'title', 'title_english', 'type', 'source', 'episodes',\n",
      "       'rating', 'score', 'scored_by', 'rank', 'popularity', 'favorites',\n",
      "       'genre'],\n",
      "      dtype='object')\n"
     ]
    }
   ],
   "source": [
    "anime1.drop(['title_japanese','opening_theme','title_synonyms', 'image_url','status','duration', 'ending_theme',\n",
    "                  'members','background','premiered','airing', 'aired_string', 'aired', 'broadcast','related','producer','licensor','studio'],\n",
    "                   axis=1,inplace=True)\n",
    "print(anime1.columns)"
   ]
  },
  {
   "cell_type": "code",
   "execution_count": 5,
   "id": "05d9e306",
   "metadata": {},
   "outputs": [
    {
     "name": "stdout",
     "output_type": "stream",
     "text": [
      "Index(['username', 'user_id', 'user_watching', 'user_completed', 'user_onhold',\n",
      "       'user_dropped', 'user_plantowatch', 'user_days_spent_watching',\n",
      "       'gender', 'location', 'birth_date', 'access_rank', 'join_date',\n",
      "       'last_online', 'stats_mean_score', 'stats_rewatched', 'stats_episodes'],\n",
      "      dtype='object')\n"
     ]
    }
   ],
   "source": [
    "print(users1.columns)"
   ]
  },
  {
   "cell_type": "code",
   "execution_count": 6,
   "id": "e84c3163",
   "metadata": {},
   "outputs": [
    {
     "name": "stdout",
     "output_type": "stream",
     "text": [
      "Index(['username', 'user_id', 'user_completed', 'user_days_spent_watching',\n",
      "       'gender', 'location', 'birth_date'],\n",
      "      dtype='object')\n"
     ]
    }
   ],
   "source": [
    "users1.drop(['user_onhold','user_watching','user_dropped','user_plantowatch','access_rank','join_date',\n",
    "               'last_online', 'stats_mean_score','stats_rewatched', 'stats_episodes'],\n",
    "                   axis=1,inplace=True)\n",
    "print(users1.columns)"
   ]
  },
  {
   "cell_type": "code",
   "execution_count": 7,
   "id": "600cdbc0",
   "metadata": {},
   "outputs": [
    {
     "name": "stdout",
     "output_type": "stream",
     "text": [
      "Index(['username', 'anime_id', 'my_watched_episodes', 'my_start_date',\n",
      "       'my_finish_date', 'my_score', 'my_status', 'my_rewatching',\n",
      "       'my_rewatching_ep', 'my_last_updated', 'my_tags'],\n",
      "      dtype='object')\n"
     ]
    }
   ],
   "source": [
    "print(useranimelists1.columns)"
   ]
  },
  {
   "cell_type": "code",
   "execution_count": 9,
   "id": "54f20a06",
   "metadata": {},
   "outputs": [
    {
     "name": "stdout",
     "output_type": "stream",
     "text": [
      "Index(['username', 'anime_id', 'my_watched_episodes', 'my_score', 'my_status'], dtype='object')\n"
     ]
    }
   ],
   "source": [
    "useranimelists1.drop(['my_start_date','my_finish_date','my_rewatching','my_rewatching_ep','my_last_updated','my_tags'],\n",
    "                   axis=1,inplace=True)\n",
    "print(useranimelists1.columns)"
   ]
  },
  {
   "cell_type": "code",
   "execution_count": 10,
   "id": "25b3bc3f",
   "metadata": {},
   "outputs": [
    {
     "data": {
      "text/plain": [
       "(14478, 13)"
      ]
     },
     "execution_count": 10,
     "metadata": {},
     "output_type": "execute_result"
    }
   ],
   "source": [
    "anime1.shape"
   ]
  },
  {
   "cell_type": "code",
   "execution_count": 11,
   "id": "d22de15b",
   "metadata": {},
   "outputs": [
    {
     "data": {
      "text/plain": [
       "(302675, 7)"
      ]
     },
     "execution_count": 11,
     "metadata": {},
     "output_type": "execute_result"
    }
   ],
   "source": [
    "users1.shape"
   ]
  },
  {
   "cell_type": "code",
   "execution_count": 12,
   "id": "bda8ed13",
   "metadata": {},
   "outputs": [
    {
     "data": {
      "text/plain": [
       "(80076112, 5)"
      ]
     },
     "execution_count": 12,
     "metadata": {},
     "output_type": "execute_result"
    }
   ],
   "source": [
    "useranimelists1.shape"
   ]
  },
  {
   "cell_type": "code",
   "execution_count": 13,
   "id": "66ef7357",
   "metadata": {},
   "outputs": [
    {
     "data": {
      "text/html": [
       "<div>\n",
       "<style scoped>\n",
       "    .dataframe tbody tr th:only-of-type {\n",
       "        vertical-align: middle;\n",
       "    }\n",
       "\n",
       "    .dataframe tbody tr th {\n",
       "        vertical-align: top;\n",
       "    }\n",
       "\n",
       "    .dataframe thead th {\n",
       "        text-align: right;\n",
       "    }\n",
       "</style>\n",
       "<table border=\"1\" class=\"dataframe\">\n",
       "  <thead>\n",
       "    <tr style=\"text-align: right;\">\n",
       "      <th></th>\n",
       "      <th>anime_id</th>\n",
       "      <th>title</th>\n",
       "      <th>title_english</th>\n",
       "      <th>type</th>\n",
       "      <th>source</th>\n",
       "      <th>episodes</th>\n",
       "      <th>rating</th>\n",
       "      <th>score</th>\n",
       "      <th>scored_by</th>\n",
       "      <th>rank</th>\n",
       "      <th>popularity</th>\n",
       "      <th>favorites</th>\n",
       "      <th>genre</th>\n",
       "    </tr>\n",
       "  </thead>\n",
       "  <tbody>\n",
       "    <tr>\n",
       "      <th>0</th>\n",
       "      <td>11013</td>\n",
       "      <td>Inu x Boku SS</td>\n",
       "      <td>Inu X Boku Secret Service</td>\n",
       "      <td>TV</td>\n",
       "      <td>Manga</td>\n",
       "      <td>12</td>\n",
       "      <td>PG-13 - Teens 13 or older</td>\n",
       "      <td>7.63</td>\n",
       "      <td>139250</td>\n",
       "      <td>1274.0</td>\n",
       "      <td>231</td>\n",
       "      <td>2809</td>\n",
       "      <td>Comedy, Supernatural, Romance, Shounen</td>\n",
       "    </tr>\n",
       "    <tr>\n",
       "      <th>1</th>\n",
       "      <td>2104</td>\n",
       "      <td>Seto no Hanayome</td>\n",
       "      <td>My Bride is a Mermaid</td>\n",
       "      <td>TV</td>\n",
       "      <td>Manga</td>\n",
       "      <td>26</td>\n",
       "      <td>PG-13 - Teens 13 or older</td>\n",
       "      <td>7.89</td>\n",
       "      <td>91206</td>\n",
       "      <td>727.0</td>\n",
       "      <td>366</td>\n",
       "      <td>2579</td>\n",
       "      <td>Comedy, Parody, Romance, School, Shounen</td>\n",
       "    </tr>\n",
       "    <tr>\n",
       "      <th>2</th>\n",
       "      <td>5262</td>\n",
       "      <td>Shugo Chara!! Doki</td>\n",
       "      <td>Shugo Chara!! Doki</td>\n",
       "      <td>TV</td>\n",
       "      <td>Manga</td>\n",
       "      <td>51</td>\n",
       "      <td>PG - Children</td>\n",
       "      <td>7.55</td>\n",
       "      <td>37129</td>\n",
       "      <td>1508.0</td>\n",
       "      <td>1173</td>\n",
       "      <td>802</td>\n",
       "      <td>Comedy, Magic, School, Shoujo</td>\n",
       "    </tr>\n",
       "    <tr>\n",
       "      <th>3</th>\n",
       "      <td>721</td>\n",
       "      <td>Princess Tutu</td>\n",
       "      <td>Princess Tutu</td>\n",
       "      <td>TV</td>\n",
       "      <td>Original</td>\n",
       "      <td>38</td>\n",
       "      <td>PG-13 - Teens 13 or older</td>\n",
       "      <td>8.21</td>\n",
       "      <td>36501</td>\n",
       "      <td>307.0</td>\n",
       "      <td>916</td>\n",
       "      <td>3344</td>\n",
       "      <td>Comedy, Drama, Magic, Romance, Fantasy</td>\n",
       "    </tr>\n",
       "    <tr>\n",
       "      <th>4</th>\n",
       "      <td>12365</td>\n",
       "      <td>Bakuman. 3rd Season</td>\n",
       "      <td>Bakuman.</td>\n",
       "      <td>TV</td>\n",
       "      <td>Manga</td>\n",
       "      <td>25</td>\n",
       "      <td>PG-13 - Teens 13 or older</td>\n",
       "      <td>8.67</td>\n",
       "      <td>107767</td>\n",
       "      <td>50.0</td>\n",
       "      <td>426</td>\n",
       "      <td>2082</td>\n",
       "      <td>Comedy, Drama, Romance, Shounen</td>\n",
       "    </tr>\n",
       "  </tbody>\n",
       "</table>\n",
       "</div>"
      ],
      "text/plain": [
       "   anime_id                title              title_english type    source  \\\n",
       "0     11013        Inu x Boku SS  Inu X Boku Secret Service   TV     Manga   \n",
       "1      2104     Seto no Hanayome      My Bride is a Mermaid   TV     Manga   \n",
       "2      5262   Shugo Chara!! Doki         Shugo Chara!! Doki   TV     Manga   \n",
       "3       721        Princess Tutu              Princess Tutu   TV  Original   \n",
       "4     12365  Bakuman. 3rd Season                   Bakuman.   TV     Manga   \n",
       "\n",
       "   episodes                     rating  score  scored_by    rank  popularity  \\\n",
       "0        12  PG-13 - Teens 13 or older   7.63     139250  1274.0         231   \n",
       "1        26  PG-13 - Teens 13 or older   7.89      91206   727.0         366   \n",
       "2        51              PG - Children   7.55      37129  1508.0        1173   \n",
       "3        38  PG-13 - Teens 13 or older   8.21      36501   307.0         916   \n",
       "4        25  PG-13 - Teens 13 or older   8.67     107767    50.0         426   \n",
       "\n",
       "   favorites                                     genre  \n",
       "0       2809    Comedy, Supernatural, Romance, Shounen  \n",
       "1       2579  Comedy, Parody, Romance, School, Shounen  \n",
       "2        802             Comedy, Magic, School, Shoujo  \n",
       "3       3344    Comedy, Drama, Magic, Romance, Fantasy  \n",
       "4       2082           Comedy, Drama, Romance, Shounen  "
      ]
     },
     "execution_count": 13,
     "metadata": {},
     "output_type": "execute_result"
    }
   ],
   "source": [
    "anime1.head()"
   ]
  },
  {
   "cell_type": "code",
   "execution_count": 14,
   "id": "4c1ca2a4",
   "metadata": {},
   "outputs": [
    {
     "data": {
      "text/html": [
       "<div>\n",
       "<style scoped>\n",
       "    .dataframe tbody tr th:only-of-type {\n",
       "        vertical-align: middle;\n",
       "    }\n",
       "\n",
       "    .dataframe tbody tr th {\n",
       "        vertical-align: top;\n",
       "    }\n",
       "\n",
       "    .dataframe thead th {\n",
       "        text-align: right;\n",
       "    }\n",
       "</style>\n",
       "<table border=\"1\" class=\"dataframe\">\n",
       "  <thead>\n",
       "    <tr style=\"text-align: right;\">\n",
       "      <th></th>\n",
       "      <th>username</th>\n",
       "      <th>user_id</th>\n",
       "      <th>user_completed</th>\n",
       "      <th>user_days_spent_watching</th>\n",
       "      <th>gender</th>\n",
       "      <th>location</th>\n",
       "      <th>birth_date</th>\n",
       "    </tr>\n",
       "  </thead>\n",
       "  <tbody>\n",
       "    <tr>\n",
       "      <th>0</th>\n",
       "      <td>karthiga</td>\n",
       "      <td>2255153</td>\n",
       "      <td>49</td>\n",
       "      <td>55.31</td>\n",
       "      <td>Female</td>\n",
       "      <td>Chennai, India</td>\n",
       "      <td>1990-04-29</td>\n",
       "    </tr>\n",
       "    <tr>\n",
       "      <th>1</th>\n",
       "      <td>RedvelvetDaisuki</td>\n",
       "      <td>1897606</td>\n",
       "      <td>396</td>\n",
       "      <td>118.07</td>\n",
       "      <td>Female</td>\n",
       "      <td>Manila</td>\n",
       "      <td>1995-01-01</td>\n",
       "    </tr>\n",
       "    <tr>\n",
       "      <th>2</th>\n",
       "      <td>Damonashu</td>\n",
       "      <td>37326</td>\n",
       "      <td>195</td>\n",
       "      <td>83.70</td>\n",
       "      <td>Male</td>\n",
       "      <td>Detroit,Michigan</td>\n",
       "      <td>1991-08-01</td>\n",
       "    </tr>\n",
       "    <tr>\n",
       "      <th>3</th>\n",
       "      <td>bskai</td>\n",
       "      <td>228342</td>\n",
       "      <td>414</td>\n",
       "      <td>167.16</td>\n",
       "      <td>Male</td>\n",
       "      <td>Nayarit, Mexico</td>\n",
       "      <td>1990-12-14</td>\n",
       "    </tr>\n",
       "    <tr>\n",
       "      <th>4</th>\n",
       "      <td>shuzzable</td>\n",
       "      <td>2347781</td>\n",
       "      <td>72</td>\n",
       "      <td>35.48</td>\n",
       "      <td>NaN</td>\n",
       "      <td>NaN</td>\n",
       "      <td>NaN</td>\n",
       "    </tr>\n",
       "  </tbody>\n",
       "</table>\n",
       "</div>"
      ],
      "text/plain": [
       "           username  user_id  user_completed  user_days_spent_watching  \\\n",
       "0          karthiga  2255153              49                     55.31   \n",
       "1  RedvelvetDaisuki  1897606             396                    118.07   \n",
       "2         Damonashu    37326             195                     83.70   \n",
       "3             bskai   228342             414                    167.16   \n",
       "4         shuzzable  2347781              72                     35.48   \n",
       "\n",
       "   gender          location  birth_date  \n",
       "0  Female   Chennai, India   1990-04-29  \n",
       "1  Female            Manila  1995-01-01  \n",
       "2    Male  Detroit,Michigan  1991-08-01  \n",
       "3    Male   Nayarit, Mexico  1990-12-14  \n",
       "4     NaN               NaN         NaN  "
      ]
     },
     "execution_count": 14,
     "metadata": {},
     "output_type": "execute_result"
    }
   ],
   "source": [
    "users1.head()"
   ]
  },
  {
   "cell_type": "code",
   "execution_count": 15,
   "id": "94ef0f9f",
   "metadata": {},
   "outputs": [
    {
     "data": {
      "text/html": [
       "<div>\n",
       "<style scoped>\n",
       "    .dataframe tbody tr th:only-of-type {\n",
       "        vertical-align: middle;\n",
       "    }\n",
       "\n",
       "    .dataframe tbody tr th {\n",
       "        vertical-align: top;\n",
       "    }\n",
       "\n",
       "    .dataframe thead th {\n",
       "        text-align: right;\n",
       "    }\n",
       "</style>\n",
       "<table border=\"1\" class=\"dataframe\">\n",
       "  <thead>\n",
       "    <tr style=\"text-align: right;\">\n",
       "      <th></th>\n",
       "      <th>username</th>\n",
       "      <th>anime_id</th>\n",
       "      <th>my_watched_episodes</th>\n",
       "      <th>my_score</th>\n",
       "      <th>my_status</th>\n",
       "    </tr>\n",
       "  </thead>\n",
       "  <tbody>\n",
       "    <tr>\n",
       "      <th>0</th>\n",
       "      <td>karthiga</td>\n",
       "      <td>21</td>\n",
       "      <td>586</td>\n",
       "      <td>9</td>\n",
       "      <td>1</td>\n",
       "    </tr>\n",
       "    <tr>\n",
       "      <th>1</th>\n",
       "      <td>karthiga</td>\n",
       "      <td>59</td>\n",
       "      <td>26</td>\n",
       "      <td>7</td>\n",
       "      <td>2</td>\n",
       "    </tr>\n",
       "    <tr>\n",
       "      <th>2</th>\n",
       "      <td>karthiga</td>\n",
       "      <td>74</td>\n",
       "      <td>26</td>\n",
       "      <td>7</td>\n",
       "      <td>2</td>\n",
       "    </tr>\n",
       "    <tr>\n",
       "      <th>3</th>\n",
       "      <td>karthiga</td>\n",
       "      <td>120</td>\n",
       "      <td>26</td>\n",
       "      <td>7</td>\n",
       "      <td>2</td>\n",
       "    </tr>\n",
       "    <tr>\n",
       "      <th>4</th>\n",
       "      <td>karthiga</td>\n",
       "      <td>178</td>\n",
       "      <td>26</td>\n",
       "      <td>7</td>\n",
       "      <td>2</td>\n",
       "    </tr>\n",
       "  </tbody>\n",
       "</table>\n",
       "</div>"
      ],
      "text/plain": [
       "   username  anime_id  my_watched_episodes  my_score  my_status\n",
       "0  karthiga        21                  586         9          1\n",
       "1  karthiga        59                   26         7          2\n",
       "2  karthiga        74                   26         7          2\n",
       "3  karthiga       120                   26         7          2\n",
       "4  karthiga       178                   26         7          2"
      ]
     },
     "execution_count": 15,
     "metadata": {},
     "output_type": "execute_result"
    }
   ],
   "source": [
    "useranimelists1.head()"
   ]
  },
  {
   "cell_type": "code",
   "execution_count": 16,
   "id": "ebbb58c1",
   "metadata": {},
   "outputs": [
    {
     "data": {
      "text/plain": [
       "anime_id            0\n",
       "title               0\n",
       "title_english    8754\n",
       "type                0\n",
       "source              0\n",
       "episodes            0\n",
       "rating              0\n",
       "score               0\n",
       "scored_by           0\n",
       "rank             1574\n",
       "popularity          0\n",
       "favorites           0\n",
       "genre              64\n",
       "dtype: int64"
      ]
     },
     "execution_count": 16,
     "metadata": {},
     "output_type": "execute_result"
    }
   ],
   "source": [
    "anime1.isnull().sum()"
   ]
  },
  {
   "cell_type": "code",
   "execution_count": 17,
   "id": "dc8ea00e",
   "metadata": {},
   "outputs": [
    {
     "data": {
      "text/plain": [
       "anime_id         0\n",
       "title            0\n",
       "title_english    0\n",
       "type             0\n",
       "source           0\n",
       "episodes         0\n",
       "rating           0\n",
       "score            0\n",
       "scored_by        0\n",
       "rank             0\n",
       "popularity       0\n",
       "favorites        0\n",
       "genre            0\n",
       "dtype: int64"
      ]
     },
     "execution_count": 17,
     "metadata": {},
     "output_type": "execute_result"
    }
   ],
   "source": [
    "anime1.dropna(inplace=True)\n",
    "anime1.isnull().sum()"
   ]
  },
  {
   "cell_type": "code",
   "execution_count": 18,
   "id": "2023cfa4",
   "metadata": {},
   "outputs": [
    {
     "data": {
      "text/plain": [
       "username                         1\n",
       "user_id                          0\n",
       "user_completed                   0\n",
       "user_days_spent_watching         0\n",
       "gender                       84875\n",
       "location                    145901\n",
       "birth_date                  133926\n",
       "dtype: int64"
      ]
     },
     "execution_count": 18,
     "metadata": {},
     "output_type": "execute_result"
    }
   ],
   "source": [
    "users1.isnull().sum()"
   ]
  },
  {
   "cell_type": "code",
   "execution_count": 19,
   "id": "9c9e504b",
   "metadata": {},
   "outputs": [
    {
     "data": {
      "text/plain": [
       "username                    0\n",
       "user_id                     0\n",
       "user_completed              0\n",
       "user_days_spent_watching    0\n",
       "gender                      0\n",
       "location                    0\n",
       "birth_date                  0\n",
       "dtype: int64"
      ]
     },
     "execution_count": 19,
     "metadata": {},
     "output_type": "execute_result"
    }
   ],
   "source": [
    "users1.dropna(inplace=True)\n",
    "users1.isnull().sum()"
   ]
  },
  {
   "cell_type": "code",
   "execution_count": 20,
   "id": "b2632455",
   "metadata": {},
   "outputs": [
    {
     "data": {
      "text/plain": [
       "username               261\n",
       "anime_id                 0\n",
       "my_watched_episodes      0\n",
       "my_score                 0\n",
       "my_status                0\n",
       "dtype: int64"
      ]
     },
     "execution_count": 20,
     "metadata": {},
     "output_type": "execute_result"
    }
   ],
   "source": [
    "useranimelists1.isnull().sum()"
   ]
  },
  {
   "cell_type": "code",
   "execution_count": 21,
   "id": "cca01d14",
   "metadata": {},
   "outputs": [
    {
     "data": {
      "text/plain": [
       "username               0\n",
       "anime_id               0\n",
       "my_watched_episodes    0\n",
       "my_score               0\n",
       "my_status              0\n",
       "dtype: int64"
      ]
     },
     "execution_count": 21,
     "metadata": {},
     "output_type": "execute_result"
    }
   ],
   "source": [
    "useranimelists1.dropna(inplace=True)\n",
    "useranimelists1.isnull().sum()"
   ]
  },
  {
   "cell_type": "code",
   "execution_count": 22,
   "id": "ced2cb48",
   "metadata": {},
   "outputs": [
    {
     "data": {
      "text/plain": [
       "(5269, 13)"
      ]
     },
     "execution_count": 22,
     "metadata": {},
     "output_type": "execute_result"
    }
   ],
   "source": [
    "anime1.shape"
   ]
  },
  {
   "cell_type": "code",
   "execution_count": 23,
   "id": "c61ccad6",
   "metadata": {},
   "outputs": [
    {
     "data": {
      "text/plain": [
       "(119624, 7)"
      ]
     },
     "execution_count": 23,
     "metadata": {},
     "output_type": "execute_result"
    }
   ],
   "source": [
    "users1.shape"
   ]
  },
  {
   "cell_type": "code",
   "execution_count": 24,
   "id": "e6534730",
   "metadata": {},
   "outputs": [
    {
     "data": {
      "text/plain": [
       "(80075851, 5)"
      ]
     },
     "execution_count": 24,
     "metadata": {},
     "output_type": "execute_result"
    }
   ],
   "source": [
    "useranimelists1.shape"
   ]
  },
  {
   "cell_type": "code",
   "execution_count": 25,
   "id": "10e7cc31",
   "metadata": {},
   "outputs": [
    {
     "data": {
      "text/plain": [
       "(5269, 10)"
      ]
     },
     "execution_count": 25,
     "metadata": {},
     "output_type": "execute_result"
    }
   ],
   "source": [
    "anime2 = anime1[anime1.genre.notnull()][['anime_id','title','type','source','score',\n",
    "                                         'scored_by','rank','popularity','favorites','genre']]\n",
    "anime2.shape"
   ]
  },
  {
   "cell_type": "code",
   "execution_count": 26,
   "id": "4c9eb81e",
   "metadata": {},
   "outputs": [
    {
     "data": {
      "text/html": [
       "<div>\n",
       "<style scoped>\n",
       "    .dataframe tbody tr th:only-of-type {\n",
       "        vertical-align: middle;\n",
       "    }\n",
       "\n",
       "    .dataframe tbody tr th {\n",
       "        vertical-align: top;\n",
       "    }\n",
       "\n",
       "    .dataframe thead th {\n",
       "        text-align: right;\n",
       "    }\n",
       "</style>\n",
       "<table border=\"1\" class=\"dataframe\">\n",
       "  <thead>\n",
       "    <tr style=\"text-align: right;\">\n",
       "      <th></th>\n",
       "      <th>anime_id</th>\n",
       "      <th>title</th>\n",
       "      <th>type</th>\n",
       "      <th>source</th>\n",
       "      <th>score</th>\n",
       "      <th>scored_by</th>\n",
       "      <th>rank</th>\n",
       "      <th>popularity</th>\n",
       "      <th>favorites</th>\n",
       "      <th>genre</th>\n",
       "    </tr>\n",
       "  </thead>\n",
       "  <tbody>\n",
       "    <tr>\n",
       "      <th>0</th>\n",
       "      <td>11013</td>\n",
       "      <td>Inu x Boku SS</td>\n",
       "      <td>TV</td>\n",
       "      <td>Manga</td>\n",
       "      <td>7.63</td>\n",
       "      <td>139250</td>\n",
       "      <td>1274.0</td>\n",
       "      <td>231</td>\n",
       "      <td>2809</td>\n",
       "      <td>Comedy, Supernatural, Romance, Shounen</td>\n",
       "    </tr>\n",
       "    <tr>\n",
       "      <th>1</th>\n",
       "      <td>2104</td>\n",
       "      <td>Seto no Hanayome</td>\n",
       "      <td>TV</td>\n",
       "      <td>Manga</td>\n",
       "      <td>7.89</td>\n",
       "      <td>91206</td>\n",
       "      <td>727.0</td>\n",
       "      <td>366</td>\n",
       "      <td>2579</td>\n",
       "      <td>Comedy, Parody, Romance, School, Shounen</td>\n",
       "    </tr>\n",
       "    <tr>\n",
       "      <th>2</th>\n",
       "      <td>5262</td>\n",
       "      <td>Shugo Chara!! Doki</td>\n",
       "      <td>TV</td>\n",
       "      <td>Manga</td>\n",
       "      <td>7.55</td>\n",
       "      <td>37129</td>\n",
       "      <td>1508.0</td>\n",
       "      <td>1173</td>\n",
       "      <td>802</td>\n",
       "      <td>Comedy, Magic, School, Shoujo</td>\n",
       "    </tr>\n",
       "    <tr>\n",
       "      <th>3</th>\n",
       "      <td>721</td>\n",
       "      <td>Princess Tutu</td>\n",
       "      <td>TV</td>\n",
       "      <td>Original</td>\n",
       "      <td>8.21</td>\n",
       "      <td>36501</td>\n",
       "      <td>307.0</td>\n",
       "      <td>916</td>\n",
       "      <td>3344</td>\n",
       "      <td>Comedy, Drama, Magic, Romance, Fantasy</td>\n",
       "    </tr>\n",
       "    <tr>\n",
       "      <th>4</th>\n",
       "      <td>12365</td>\n",
       "      <td>Bakuman. 3rd Season</td>\n",
       "      <td>TV</td>\n",
       "      <td>Manga</td>\n",
       "      <td>8.67</td>\n",
       "      <td>107767</td>\n",
       "      <td>50.0</td>\n",
       "      <td>426</td>\n",
       "      <td>2082</td>\n",
       "      <td>Comedy, Drama, Romance, Shounen</td>\n",
       "    </tr>\n",
       "  </tbody>\n",
       "</table>\n",
       "</div>"
      ],
      "text/plain": [
       "   anime_id                title type    source  score  scored_by    rank  \\\n",
       "0     11013        Inu x Boku SS   TV     Manga   7.63     139250  1274.0   \n",
       "1      2104     Seto no Hanayome   TV     Manga   7.89      91206   727.0   \n",
       "2      5262   Shugo Chara!! Doki   TV     Manga   7.55      37129  1508.0   \n",
       "3       721        Princess Tutu   TV  Original   8.21      36501   307.0   \n",
       "4     12365  Bakuman. 3rd Season   TV     Manga   8.67     107767    50.0   \n",
       "\n",
       "   popularity  favorites                                     genre  \n",
       "0         231       2809    Comedy, Supernatural, Romance, Shounen  \n",
       "1         366       2579  Comedy, Parody, Romance, School, Shounen  \n",
       "2        1173        802             Comedy, Magic, School, Shoujo  \n",
       "3         916       3344    Comedy, Drama, Magic, Romance, Fantasy  \n",
       "4         426       2082           Comedy, Drama, Romance, Shounen  "
      ]
     },
     "execution_count": 26,
     "metadata": {},
     "output_type": "execute_result"
    }
   ],
   "source": [
    "anime2.head()"
   ]
  },
  {
   "cell_type": "code",
   "execution_count": 27,
   "id": "3840faca",
   "metadata": {},
   "outputs": [
    {
     "data": {
      "text/plain": [
       "(119020, 5)"
      ]
     },
     "execution_count": 27,
     "metadata": {},
     "output_type": "execute_result"
    }
   ],
   "source": [
    "users2 = users1[users1.gender.isin(['Female','Male'])][['username','gender','user_completed',\n",
    "                                                           'user_days_spent_watching','birth_date' ]]\n",
    "users2.shape\n"
   ]
  },
  {
   "cell_type": "code",
   "execution_count": 28,
   "id": "42e59024",
   "metadata": {},
   "outputs": [
    {
     "data": {
      "text/html": [
       "<div>\n",
       "<style scoped>\n",
       "    .dataframe tbody tr th:only-of-type {\n",
       "        vertical-align: middle;\n",
       "    }\n",
       "\n",
       "    .dataframe tbody tr th {\n",
       "        vertical-align: top;\n",
       "    }\n",
       "\n",
       "    .dataframe thead th {\n",
       "        text-align: right;\n",
       "    }\n",
       "</style>\n",
       "<table border=\"1\" class=\"dataframe\">\n",
       "  <thead>\n",
       "    <tr style=\"text-align: right;\">\n",
       "      <th></th>\n",
       "      <th>username</th>\n",
       "      <th>gender</th>\n",
       "      <th>user_completed</th>\n",
       "      <th>user_days_spent_watching</th>\n",
       "      <th>birth_date</th>\n",
       "    </tr>\n",
       "  </thead>\n",
       "  <tbody>\n",
       "    <tr>\n",
       "      <th>0</th>\n",
       "      <td>karthiga</td>\n",
       "      <td>Female</td>\n",
       "      <td>49</td>\n",
       "      <td>55.31</td>\n",
       "      <td>1990-04-29</td>\n",
       "    </tr>\n",
       "    <tr>\n",
       "      <th>1</th>\n",
       "      <td>RedvelvetDaisuki</td>\n",
       "      <td>Female</td>\n",
       "      <td>396</td>\n",
       "      <td>118.07</td>\n",
       "      <td>1995-01-01</td>\n",
       "    </tr>\n",
       "    <tr>\n",
       "      <th>2</th>\n",
       "      <td>Damonashu</td>\n",
       "      <td>Male</td>\n",
       "      <td>195</td>\n",
       "      <td>83.70</td>\n",
       "      <td>1991-08-01</td>\n",
       "    </tr>\n",
       "    <tr>\n",
       "      <th>3</th>\n",
       "      <td>bskai</td>\n",
       "      <td>Male</td>\n",
       "      <td>414</td>\n",
       "      <td>167.16</td>\n",
       "      <td>1990-12-14</td>\n",
       "    </tr>\n",
       "    <tr>\n",
       "      <th>5</th>\n",
       "      <td>terune_uzumaki</td>\n",
       "      <td>Female</td>\n",
       "      <td>5</td>\n",
       "      <td>15.20</td>\n",
       "      <td>1998-08-24</td>\n",
       "    </tr>\n",
       "  </tbody>\n",
       "</table>\n",
       "</div>"
      ],
      "text/plain": [
       "           username  gender  user_completed  user_days_spent_watching  \\\n",
       "0          karthiga  Female              49                     55.31   \n",
       "1  RedvelvetDaisuki  Female             396                    118.07   \n",
       "2         Damonashu    Male             195                     83.70   \n",
       "3             bskai    Male             414                    167.16   \n",
       "5    terune_uzumaki  Female               5                     15.20   \n",
       "\n",
       "   birth_date  \n",
       "0  1990-04-29  \n",
       "1  1995-01-01  \n",
       "2  1991-08-01  \n",
       "3  1990-12-14  \n",
       "5  1998-08-24  "
      ]
     },
     "execution_count": 28,
     "metadata": {},
     "output_type": "execute_result"
    }
   ],
   "source": [
    "users2.head()"
   ]
  },
  {
   "cell_type": "code",
   "execution_count": 29,
   "id": "b9d5bf14",
   "metadata": {},
   "outputs": [
    {
     "data": {
      "text/plain": [
       "(54503144, 3)"
      ]
     },
     "execution_count": 29,
     "metadata": {},
     "output_type": "execute_result"
    }
   ],
   "source": [
    "usersanimelists2 = useranimelists1[useranimelists1.my_status.isin([1,2]) \n",
    "                                  & useranimelists1.anime_id.notnull()][['username', 'anime_id', 'my_score', ]]\n",
    "usersanimelists2.shape\n"
   ]
  },
  {
   "cell_type": "code",
   "execution_count": 30,
   "id": "09778fca",
   "metadata": {},
   "outputs": [
    {
     "data": {
      "text/html": [
       "<div>\n",
       "<style scoped>\n",
       "    .dataframe tbody tr th:only-of-type {\n",
       "        vertical-align: middle;\n",
       "    }\n",
       "\n",
       "    .dataframe tbody tr th {\n",
       "        vertical-align: top;\n",
       "    }\n",
       "\n",
       "    .dataframe thead th {\n",
       "        text-align: right;\n",
       "    }\n",
       "</style>\n",
       "<table border=\"1\" class=\"dataframe\">\n",
       "  <thead>\n",
       "    <tr style=\"text-align: right;\">\n",
       "      <th></th>\n",
       "      <th>username</th>\n",
       "      <th>anime_id</th>\n",
       "      <th>my_score</th>\n",
       "    </tr>\n",
       "  </thead>\n",
       "  <tbody>\n",
       "    <tr>\n",
       "      <th>0</th>\n",
       "      <td>karthiga</td>\n",
       "      <td>21</td>\n",
       "      <td>9</td>\n",
       "    </tr>\n",
       "    <tr>\n",
       "      <th>1</th>\n",
       "      <td>karthiga</td>\n",
       "      <td>59</td>\n",
       "      <td>7</td>\n",
       "    </tr>\n",
       "    <tr>\n",
       "      <th>2</th>\n",
       "      <td>karthiga</td>\n",
       "      <td>74</td>\n",
       "      <td>7</td>\n",
       "    </tr>\n",
       "    <tr>\n",
       "      <th>3</th>\n",
       "      <td>karthiga</td>\n",
       "      <td>120</td>\n",
       "      <td>7</td>\n",
       "    </tr>\n",
       "    <tr>\n",
       "      <th>4</th>\n",
       "      <td>karthiga</td>\n",
       "      <td>178</td>\n",
       "      <td>7</td>\n",
       "    </tr>\n",
       "  </tbody>\n",
       "</table>\n",
       "</div>"
      ],
      "text/plain": [
       "   username  anime_id  my_score\n",
       "0  karthiga        21         9\n",
       "1  karthiga        59         7\n",
       "2  karthiga        74         7\n",
       "3  karthiga       120         7\n",
       "4  karthiga       178         7"
      ]
     },
     "execution_count": 30,
     "metadata": {},
     "output_type": "execute_result"
    }
   ],
   "source": [
    "usersanimelists2.head()"
   ]
  },
  {
   "cell_type": "code",
   "execution_count": 31,
   "id": "9f915533",
   "metadata": {},
   "outputs": [
    {
     "data": {
      "text/plain": [
       "(24257403, 7)"
      ]
     },
     "execution_count": 31,
     "metadata": {},
     "output_type": "execute_result"
    }
   ],
   "source": [
    "df1 = pd.merge(usersanimelists2,users2, how='inner')\n",
    "df1.shape"
   ]
  },
  {
   "cell_type": "code",
   "execution_count": 32,
   "id": "d4377c21",
   "metadata": {},
   "outputs": [
    {
     "data": {
      "text/html": [
       "<div>\n",
       "<style scoped>\n",
       "    .dataframe tbody tr th:only-of-type {\n",
       "        vertical-align: middle;\n",
       "    }\n",
       "\n",
       "    .dataframe tbody tr th {\n",
       "        vertical-align: top;\n",
       "    }\n",
       "\n",
       "    .dataframe thead th {\n",
       "        text-align: right;\n",
       "    }\n",
       "</style>\n",
       "<table border=\"1\" class=\"dataframe\">\n",
       "  <thead>\n",
       "    <tr style=\"text-align: right;\">\n",
       "      <th></th>\n",
       "      <th>username</th>\n",
       "      <th>anime_id</th>\n",
       "      <th>my_score</th>\n",
       "      <th>gender</th>\n",
       "      <th>user_completed</th>\n",
       "      <th>user_days_spent_watching</th>\n",
       "      <th>birth_date</th>\n",
       "    </tr>\n",
       "  </thead>\n",
       "  <tbody>\n",
       "    <tr>\n",
       "      <th>0</th>\n",
       "      <td>karthiga</td>\n",
       "      <td>21</td>\n",
       "      <td>9</td>\n",
       "      <td>Female</td>\n",
       "      <td>49</td>\n",
       "      <td>55.31</td>\n",
       "      <td>1990-04-29</td>\n",
       "    </tr>\n",
       "    <tr>\n",
       "      <th>1</th>\n",
       "      <td>karthiga</td>\n",
       "      <td>59</td>\n",
       "      <td>7</td>\n",
       "      <td>Female</td>\n",
       "      <td>49</td>\n",
       "      <td>55.31</td>\n",
       "      <td>1990-04-29</td>\n",
       "    </tr>\n",
       "    <tr>\n",
       "      <th>2</th>\n",
       "      <td>karthiga</td>\n",
       "      <td>74</td>\n",
       "      <td>7</td>\n",
       "      <td>Female</td>\n",
       "      <td>49</td>\n",
       "      <td>55.31</td>\n",
       "      <td>1990-04-29</td>\n",
       "    </tr>\n",
       "    <tr>\n",
       "      <th>3</th>\n",
       "      <td>karthiga</td>\n",
       "      <td>120</td>\n",
       "      <td>7</td>\n",
       "      <td>Female</td>\n",
       "      <td>49</td>\n",
       "      <td>55.31</td>\n",
       "      <td>1990-04-29</td>\n",
       "    </tr>\n",
       "    <tr>\n",
       "      <th>4</th>\n",
       "      <td>karthiga</td>\n",
       "      <td>178</td>\n",
       "      <td>7</td>\n",
       "      <td>Female</td>\n",
       "      <td>49</td>\n",
       "      <td>55.31</td>\n",
       "      <td>1990-04-29</td>\n",
       "    </tr>\n",
       "  </tbody>\n",
       "</table>\n",
       "</div>"
      ],
      "text/plain": [
       "   username  anime_id  my_score  gender  user_completed  \\\n",
       "0  karthiga        21         9  Female              49   \n",
       "1  karthiga        59         7  Female              49   \n",
       "2  karthiga        74         7  Female              49   \n",
       "3  karthiga       120         7  Female              49   \n",
       "4  karthiga       178         7  Female              49   \n",
       "\n",
       "   user_days_spent_watching  birth_date  \n",
       "0                     55.31  1990-04-29  \n",
       "1                     55.31  1990-04-29  \n",
       "2                     55.31  1990-04-29  \n",
       "3                     55.31  1990-04-29  \n",
       "4                     55.31  1990-04-29  "
      ]
     },
     "execution_count": 32,
     "metadata": {},
     "output_type": "execute_result"
    }
   ],
   "source": [
    "df1.head()"
   ]
  },
  {
   "cell_type": "code",
   "execution_count": 33,
   "id": "732d3add",
   "metadata": {},
   "outputs": [
    {
     "data": {
      "text/plain": [
       "(24257403, 16)"
      ]
     },
     "execution_count": 33,
     "metadata": {},
     "output_type": "execute_result"
    }
   ],
   "source": [
    "df1 = pd.merge(df1,anime2, how='left')\n",
    "df1.shape\n"
   ]
  },
  {
   "cell_type": "code",
   "execution_count": 34,
   "id": "aeaea164",
   "metadata": {},
   "outputs": [
    {
     "data": {
      "text/html": [
       "<div>\n",
       "<style scoped>\n",
       "    .dataframe tbody tr th:only-of-type {\n",
       "        vertical-align: middle;\n",
       "    }\n",
       "\n",
       "    .dataframe tbody tr th {\n",
       "        vertical-align: top;\n",
       "    }\n",
       "\n",
       "    .dataframe thead th {\n",
       "        text-align: right;\n",
       "    }\n",
       "</style>\n",
       "<table border=\"1\" class=\"dataframe\">\n",
       "  <thead>\n",
       "    <tr style=\"text-align: right;\">\n",
       "      <th></th>\n",
       "      <th>username</th>\n",
       "      <th>anime_id</th>\n",
       "      <th>my_score</th>\n",
       "      <th>gender</th>\n",
       "      <th>user_completed</th>\n",
       "      <th>user_days_spent_watching</th>\n",
       "      <th>birth_date</th>\n",
       "      <th>title</th>\n",
       "      <th>type</th>\n",
       "      <th>source</th>\n",
       "      <th>score</th>\n",
       "      <th>scored_by</th>\n",
       "      <th>rank</th>\n",
       "      <th>popularity</th>\n",
       "      <th>favorites</th>\n",
       "      <th>genre</th>\n",
       "    </tr>\n",
       "  </thead>\n",
       "  <tbody>\n",
       "    <tr>\n",
       "      <th>0</th>\n",
       "      <td>karthiga</td>\n",
       "      <td>21</td>\n",
       "      <td>9</td>\n",
       "      <td>Female</td>\n",
       "      <td>49</td>\n",
       "      <td>55.31</td>\n",
       "      <td>1990-04-29</td>\n",
       "      <td>One Piece</td>\n",
       "      <td>TV</td>\n",
       "      <td>Manga</td>\n",
       "      <td>8.54</td>\n",
       "      <td>423868.0</td>\n",
       "      <td>91.0</td>\n",
       "      <td>35.0</td>\n",
       "      <td>69760.0</td>\n",
       "      <td>Action, Adventure, Comedy, Super Power, Drama,...</td>\n",
       "    </tr>\n",
       "    <tr>\n",
       "      <th>1</th>\n",
       "      <td>karthiga</td>\n",
       "      <td>59</td>\n",
       "      <td>7</td>\n",
       "      <td>Female</td>\n",
       "      <td>49</td>\n",
       "      <td>55.31</td>\n",
       "      <td>1990-04-29</td>\n",
       "      <td>Chobits</td>\n",
       "      <td>TV</td>\n",
       "      <td>Manga</td>\n",
       "      <td>7.53</td>\n",
       "      <td>175388.0</td>\n",
       "      <td>1546.0</td>\n",
       "      <td>188.0</td>\n",
       "      <td>3271.0</td>\n",
       "      <td>Sci-Fi, Comedy, Drama, Romance, Ecchi, Seinen</td>\n",
       "    </tr>\n",
       "    <tr>\n",
       "      <th>2</th>\n",
       "      <td>karthiga</td>\n",
       "      <td>74</td>\n",
       "      <td>7</td>\n",
       "      <td>Female</td>\n",
       "      <td>49</td>\n",
       "      <td>55.31</td>\n",
       "      <td>1990-04-29</td>\n",
       "      <td>Gakuen Alice</td>\n",
       "      <td>TV</td>\n",
       "      <td>Manga</td>\n",
       "      <td>7.77</td>\n",
       "      <td>33244.0</td>\n",
       "      <td>941.0</td>\n",
       "      <td>1291.0</td>\n",
       "      <td>1403.0</td>\n",
       "      <td>Comedy, School, Shoujo, Super Power</td>\n",
       "    </tr>\n",
       "    <tr>\n",
       "      <th>3</th>\n",
       "      <td>karthiga</td>\n",
       "      <td>120</td>\n",
       "      <td>7</td>\n",
       "      <td>Female</td>\n",
       "      <td>49</td>\n",
       "      <td>55.31</td>\n",
       "      <td>1990-04-29</td>\n",
       "      <td>Fruits Basket</td>\n",
       "      <td>TV</td>\n",
       "      <td>Manga</td>\n",
       "      <td>7.77</td>\n",
       "      <td>167968.0</td>\n",
       "      <td>939.0</td>\n",
       "      <td>222.0</td>\n",
       "      <td>7579.0</td>\n",
       "      <td>Slice of Life, Comedy, Drama, Romance, Fantasy...</td>\n",
       "    </tr>\n",
       "    <tr>\n",
       "      <th>4</th>\n",
       "      <td>karthiga</td>\n",
       "      <td>178</td>\n",
       "      <td>7</td>\n",
       "      <td>Female</td>\n",
       "      <td>49</td>\n",
       "      <td>55.31</td>\n",
       "      <td>1990-04-29</td>\n",
       "      <td>Ultra Maniac</td>\n",
       "      <td>TV</td>\n",
       "      <td>Manga</td>\n",
       "      <td>7.26</td>\n",
       "      <td>9663.0</td>\n",
       "      <td>2594.0</td>\n",
       "      <td>2490.0</td>\n",
       "      <td>122.0</td>\n",
       "      <td>Magic, Comedy, Romance, School, Shoujo</td>\n",
       "    </tr>\n",
       "  </tbody>\n",
       "</table>\n",
       "</div>"
      ],
      "text/plain": [
       "   username  anime_id  my_score  gender  user_completed  \\\n",
       "0  karthiga        21         9  Female              49   \n",
       "1  karthiga        59         7  Female              49   \n",
       "2  karthiga        74         7  Female              49   \n",
       "3  karthiga       120         7  Female              49   \n",
       "4  karthiga       178         7  Female              49   \n",
       "\n",
       "   user_days_spent_watching  birth_date          title type source  score  \\\n",
       "0                     55.31  1990-04-29      One Piece   TV  Manga   8.54   \n",
       "1                     55.31  1990-04-29        Chobits   TV  Manga   7.53   \n",
       "2                     55.31  1990-04-29   Gakuen Alice   TV  Manga   7.77   \n",
       "3                     55.31  1990-04-29  Fruits Basket   TV  Manga   7.77   \n",
       "4                     55.31  1990-04-29   Ultra Maniac   TV  Manga   7.26   \n",
       "\n",
       "   scored_by    rank  popularity  favorites  \\\n",
       "0   423868.0    91.0        35.0    69760.0   \n",
       "1   175388.0  1546.0       188.0     3271.0   \n",
       "2    33244.0   941.0      1291.0     1403.0   \n",
       "3   167968.0   939.0       222.0     7579.0   \n",
       "4     9663.0  2594.0      2490.0      122.0   \n",
       "\n",
       "                                               genre  \n",
       "0  Action, Adventure, Comedy, Super Power, Drama,...  \n",
       "1      Sci-Fi, Comedy, Drama, Romance, Ecchi, Seinen  \n",
       "2                Comedy, School, Shoujo, Super Power  \n",
       "3  Slice of Life, Comedy, Drama, Romance, Fantasy...  \n",
       "4             Magic, Comedy, Romance, School, Shoujo  "
      ]
     },
     "execution_count": 34,
     "metadata": {},
     "output_type": "execute_result"
    }
   ],
   "source": [
    "df1.head()"
   ]
  },
  {
   "cell_type": "code",
   "execution_count": 35,
   "id": "ebec4a84",
   "metadata": {},
   "outputs": [
    {
     "data": {
      "text/plain": [
       "(100000, 16)"
      ]
     },
     "execution_count": 35,
     "metadata": {},
     "output_type": "execute_result"
    }
   ],
   "source": [
    "df1_sub = df1[df1.genre.notnull()].head(100000)\n",
    "df1_sub.shape"
   ]
  },
  {
   "cell_type": "code",
   "execution_count": 36,
   "id": "6acf9140",
   "metadata": {},
   "outputs": [
    {
     "data": {
      "text/html": [
       "<div>\n",
       "<style scoped>\n",
       "    .dataframe tbody tr th:only-of-type {\n",
       "        vertical-align: middle;\n",
       "    }\n",
       "\n",
       "    .dataframe tbody tr th {\n",
       "        vertical-align: top;\n",
       "    }\n",
       "\n",
       "    .dataframe thead th {\n",
       "        text-align: right;\n",
       "    }\n",
       "</style>\n",
       "<table border=\"1\" class=\"dataframe\">\n",
       "  <thead>\n",
       "    <tr style=\"text-align: right;\">\n",
       "      <th></th>\n",
       "      <th>username</th>\n",
       "      <th>anime_id</th>\n",
       "      <th>my_score</th>\n",
       "      <th>gender</th>\n",
       "      <th>user_completed</th>\n",
       "      <th>user_days_spent_watching</th>\n",
       "      <th>birth_date</th>\n",
       "      <th>title</th>\n",
       "      <th>type</th>\n",
       "      <th>source</th>\n",
       "      <th>score</th>\n",
       "      <th>scored_by</th>\n",
       "      <th>rank</th>\n",
       "      <th>popularity</th>\n",
       "      <th>favorites</th>\n",
       "      <th>genre</th>\n",
       "    </tr>\n",
       "  </thead>\n",
       "  <tbody>\n",
       "    <tr>\n",
       "      <th>0</th>\n",
       "      <td>karthiga</td>\n",
       "      <td>21</td>\n",
       "      <td>9</td>\n",
       "      <td>Female</td>\n",
       "      <td>49</td>\n",
       "      <td>55.31</td>\n",
       "      <td>1990-04-29</td>\n",
       "      <td>One Piece</td>\n",
       "      <td>TV</td>\n",
       "      <td>Manga</td>\n",
       "      <td>8.54</td>\n",
       "      <td>423868.0</td>\n",
       "      <td>91.0</td>\n",
       "      <td>35.0</td>\n",
       "      <td>69760.0</td>\n",
       "      <td>Action, Adventure, Comedy, Super Power, Drama,...</td>\n",
       "    </tr>\n",
       "    <tr>\n",
       "      <th>1</th>\n",
       "      <td>karthiga</td>\n",
       "      <td>59</td>\n",
       "      <td>7</td>\n",
       "      <td>Female</td>\n",
       "      <td>49</td>\n",
       "      <td>55.31</td>\n",
       "      <td>1990-04-29</td>\n",
       "      <td>Chobits</td>\n",
       "      <td>TV</td>\n",
       "      <td>Manga</td>\n",
       "      <td>7.53</td>\n",
       "      <td>175388.0</td>\n",
       "      <td>1546.0</td>\n",
       "      <td>188.0</td>\n",
       "      <td>3271.0</td>\n",
       "      <td>Sci-Fi, Comedy, Drama, Romance, Ecchi, Seinen</td>\n",
       "    </tr>\n",
       "    <tr>\n",
       "      <th>2</th>\n",
       "      <td>karthiga</td>\n",
       "      <td>74</td>\n",
       "      <td>7</td>\n",
       "      <td>Female</td>\n",
       "      <td>49</td>\n",
       "      <td>55.31</td>\n",
       "      <td>1990-04-29</td>\n",
       "      <td>Gakuen Alice</td>\n",
       "      <td>TV</td>\n",
       "      <td>Manga</td>\n",
       "      <td>7.77</td>\n",
       "      <td>33244.0</td>\n",
       "      <td>941.0</td>\n",
       "      <td>1291.0</td>\n",
       "      <td>1403.0</td>\n",
       "      <td>Comedy, School, Shoujo, Super Power</td>\n",
       "    </tr>\n",
       "    <tr>\n",
       "      <th>3</th>\n",
       "      <td>karthiga</td>\n",
       "      <td>120</td>\n",
       "      <td>7</td>\n",
       "      <td>Female</td>\n",
       "      <td>49</td>\n",
       "      <td>55.31</td>\n",
       "      <td>1990-04-29</td>\n",
       "      <td>Fruits Basket</td>\n",
       "      <td>TV</td>\n",
       "      <td>Manga</td>\n",
       "      <td>7.77</td>\n",
       "      <td>167968.0</td>\n",
       "      <td>939.0</td>\n",
       "      <td>222.0</td>\n",
       "      <td>7579.0</td>\n",
       "      <td>Slice of Life, Comedy, Drama, Romance, Fantasy...</td>\n",
       "    </tr>\n",
       "    <tr>\n",
       "      <th>4</th>\n",
       "      <td>karthiga</td>\n",
       "      <td>178</td>\n",
       "      <td>7</td>\n",
       "      <td>Female</td>\n",
       "      <td>49</td>\n",
       "      <td>55.31</td>\n",
       "      <td>1990-04-29</td>\n",
       "      <td>Ultra Maniac</td>\n",
       "      <td>TV</td>\n",
       "      <td>Manga</td>\n",
       "      <td>7.26</td>\n",
       "      <td>9663.0</td>\n",
       "      <td>2594.0</td>\n",
       "      <td>2490.0</td>\n",
       "      <td>122.0</td>\n",
       "      <td>Magic, Comedy, Romance, School, Shoujo</td>\n",
       "    </tr>\n",
       "  </tbody>\n",
       "</table>\n",
       "</div>"
      ],
      "text/plain": [
       "   username  anime_id  my_score  gender  user_completed  \\\n",
       "0  karthiga        21         9  Female              49   \n",
       "1  karthiga        59         7  Female              49   \n",
       "2  karthiga        74         7  Female              49   \n",
       "3  karthiga       120         7  Female              49   \n",
       "4  karthiga       178         7  Female              49   \n",
       "\n",
       "   user_days_spent_watching  birth_date          title type source  score  \\\n",
       "0                     55.31  1990-04-29      One Piece   TV  Manga   8.54   \n",
       "1                     55.31  1990-04-29        Chobits   TV  Manga   7.53   \n",
       "2                     55.31  1990-04-29   Gakuen Alice   TV  Manga   7.77   \n",
       "3                     55.31  1990-04-29  Fruits Basket   TV  Manga   7.77   \n",
       "4                     55.31  1990-04-29   Ultra Maniac   TV  Manga   7.26   \n",
       "\n",
       "   scored_by    rank  popularity  favorites  \\\n",
       "0   423868.0    91.0        35.0    69760.0   \n",
       "1   175388.0  1546.0       188.0     3271.0   \n",
       "2    33244.0   941.0      1291.0     1403.0   \n",
       "3   167968.0   939.0       222.0     7579.0   \n",
       "4     9663.0  2594.0      2490.0      122.0   \n",
       "\n",
       "                                               genre  \n",
       "0  Action, Adventure, Comedy, Super Power, Drama,...  \n",
       "1      Sci-Fi, Comedy, Drama, Romance, Ecchi, Seinen  \n",
       "2                Comedy, School, Shoujo, Super Power  \n",
       "3  Slice of Life, Comedy, Drama, Romance, Fantasy...  \n",
       "4             Magic, Comedy, Romance, School, Shoujo  "
      ]
     },
     "execution_count": 36,
     "metadata": {},
     "output_type": "execute_result"
    }
   ],
   "source": [
    "df1_sub.head()"
   ]
  },
  {
   "cell_type": "code",
   "execution_count": 37,
   "id": "bb79e1c5",
   "metadata": {},
   "outputs": [
    {
     "data": {
      "text/html": [
       "<div>\n",
       "<style scoped>\n",
       "    .dataframe tbody tr th:only-of-type {\n",
       "        vertical-align: middle;\n",
       "    }\n",
       "\n",
       "    .dataframe tbody tr th {\n",
       "        vertical-align: top;\n",
       "    }\n",
       "\n",
       "    .dataframe thead th {\n",
       "        text-align: right;\n",
       "    }\n",
       "</style>\n",
       "<table border=\"1\" class=\"dataframe\">\n",
       "  <thead>\n",
       "    <tr style=\"text-align: right;\">\n",
       "      <th></th>\n",
       "      <th>popularity</th>\n",
       "      <th>rank</th>\n",
       "      <th>title</th>\n",
       "      <th>type</th>\n",
       "      <th>source</th>\n",
       "      <th>scored_by</th>\n",
       "      <th>favorites</th>\n",
       "      <th>score</th>\n",
       "      <th>point</th>\n",
       "    </tr>\n",
       "  </thead>\n",
       "  <tbody>\n",
       "    <tr>\n",
       "      <th>2555</th>\n",
       "      <td>4</td>\n",
       "      <td>1.0</td>\n",
       "      <td>Fullmetal Alchemist: Brotherhood</td>\n",
       "      <td>TV</td>\n",
       "      <td>Manga</td>\n",
       "      <td>733592</td>\n",
       "      <td>106895</td>\n",
       "      <td>9.25</td>\n",
       "      <td>72.536018</td>\n",
       "    </tr>\n",
       "    <tr>\n",
       "      <th>1028</th>\n",
       "      <td>33</td>\n",
       "      <td>2.0</td>\n",
       "      <td>Kimi no Na wa.</td>\n",
       "      <td>Movie</td>\n",
       "      <td>Original</td>\n",
       "      <td>471398</td>\n",
       "      <td>34912</td>\n",
       "      <td>9.19</td>\n",
       "      <td>15.124394</td>\n",
       "    </tr>\n",
       "    <tr>\n",
       "      <th>2999</th>\n",
       "      <td>8</td>\n",
       "      <td>5.0</td>\n",
       "      <td>Steins;Gate</td>\n",
       "      <td>TV</td>\n",
       "      <td>Visual novel</td>\n",
       "      <td>563857</td>\n",
       "      <td>92423</td>\n",
       "      <td>9.14</td>\n",
       "      <td>47.631607</td>\n",
       "    </tr>\n",
       "    <tr>\n",
       "      <th>418</th>\n",
       "      <td>35</td>\n",
       "      <td>8.0</td>\n",
       "      <td>Hunter x Hunter (2011)</td>\n",
       "      <td>TV</td>\n",
       "      <td>Manga</td>\n",
       "      <td>403377</td>\n",
       "      <td>64375</td>\n",
       "      <td>9.11</td>\n",
       "      <td>23.656296</td>\n",
       "    </tr>\n",
       "    <tr>\n",
       "      <th>6572</th>\n",
       "      <td>77</td>\n",
       "      <td>12.0</td>\n",
       "      <td>Koe no Katachi</td>\n",
       "      <td>Movie</td>\n",
       "      <td>Manga</td>\n",
       "      <td>296261</td>\n",
       "      <td>19815</td>\n",
       "      <td>9.04</td>\n",
       "      <td>5.306852</td>\n",
       "    </tr>\n",
       "    <tr>\n",
       "      <th>2783</th>\n",
       "      <td>55</td>\n",
       "      <td>14.0</td>\n",
       "      <td>Clannad: After Story</td>\n",
       "      <td>TV</td>\n",
       "      <td>Visual novel</td>\n",
       "      <td>363239</td>\n",
       "      <td>47380</td>\n",
       "      <td>9.01</td>\n",
       "      <td>15.506448</td>\n",
       "    </tr>\n",
       "    <tr>\n",
       "      <th>6553</th>\n",
       "      <td>95</td>\n",
       "      <td>15.0</td>\n",
       "      <td>Gintama</td>\n",
       "      <td>TV</td>\n",
       "      <td>Manga</td>\n",
       "      <td>141830</td>\n",
       "      <td>33781</td>\n",
       "      <td>9.01</td>\n",
       "      <td>4.316834</td>\n",
       "    </tr>\n",
       "    <tr>\n",
       "      <th>7403</th>\n",
       "      <td>22</td>\n",
       "      <td>18.0</td>\n",
       "      <td>Code Geass: Hangyaku no Lelouch R2</td>\n",
       "      <td>TV</td>\n",
       "      <td>Original</td>\n",
       "      <td>543904</td>\n",
       "      <td>44230</td>\n",
       "      <td>8.95</td>\n",
       "      <td>21.530902</td>\n",
       "    </tr>\n",
       "    <tr>\n",
       "      <th>7105</th>\n",
       "      <td>39</td>\n",
       "      <td>19.0</td>\n",
       "      <td>Sen to Chihiro no Kamikakushi</td>\n",
       "      <td>Movie</td>\n",
       "      <td>Original</td>\n",
       "      <td>498602</td>\n",
       "      <td>15412</td>\n",
       "      <td>8.92</td>\n",
       "      <td>6.854533</td>\n",
       "    </tr>\n",
       "    <tr>\n",
       "      <th>11640</th>\n",
       "      <td>37</td>\n",
       "      <td>21.0</td>\n",
       "      <td>Shigatsu wa Kimi no Uso</td>\n",
       "      <td>TV</td>\n",
       "      <td>Manga</td>\n",
       "      <td>413527</td>\n",
       "      <td>39664</td>\n",
       "      <td>8.88</td>\n",
       "      <td>14.565096</td>\n",
       "    </tr>\n",
       "    <tr>\n",
       "      <th>9132</th>\n",
       "      <td>38</td>\n",
       "      <td>27.0</td>\n",
       "      <td>Cowboy Bebop</td>\n",
       "      <td>TV</td>\n",
       "      <td>Original</td>\n",
       "      <td>365465</td>\n",
       "      <td>39145</td>\n",
       "      <td>8.81</td>\n",
       "      <td>12.603698</td>\n",
       "    </tr>\n",
       "    <tr>\n",
       "      <th>2068</th>\n",
       "      <td>79</td>\n",
       "      <td>29.0</td>\n",
       "      <td>Mononoke Hime</td>\n",
       "      <td>Movie</td>\n",
       "      <td>Original</td>\n",
       "      <td>333730</td>\n",
       "      <td>10689</td>\n",
       "      <td>8.80</td>\n",
       "      <td>3.139171</td>\n",
       "    </tr>\n",
       "    <tr>\n",
       "      <th>13726</th>\n",
       "      <td>9</td>\n",
       "      <td>30.0</td>\n",
       "      <td>Code Geass: Hangyaku no Lelouch</td>\n",
       "      <td>TV</td>\n",
       "      <td>Original</td>\n",
       "      <td>627740</td>\n",
       "      <td>63614</td>\n",
       "      <td>8.79</td>\n",
       "      <td>35.101153</td>\n",
       "    </tr>\n",
       "    <tr>\n",
       "      <th>4193</th>\n",
       "      <td>57</td>\n",
       "      <td>35.0</td>\n",
       "      <td>Boku no Hero Academia 2nd Season</td>\n",
       "      <td>TV</td>\n",
       "      <td>Manga</td>\n",
       "      <td>350352</td>\n",
       "      <td>11671</td>\n",
       "      <td>8.76</td>\n",
       "      <td>3.581927</td>\n",
       "    </tr>\n",
       "    <tr>\n",
       "      <th>10918</th>\n",
       "      <td>24</td>\n",
       "      <td>41.0</td>\n",
       "      <td>Tengen Toppa Gurren Lagann</td>\n",
       "      <td>TV</td>\n",
       "      <td>Original</td>\n",
       "      <td>449656</td>\n",
       "      <td>50040</td>\n",
       "      <td>8.74</td>\n",
       "      <td>19.665687</td>\n",
       "    </tr>\n",
       "  </tbody>\n",
       "</table>\n",
       "</div>"
      ],
      "text/plain": [
       "       popularity  rank                               title   type  \\\n",
       "2555            4   1.0    Fullmetal Alchemist: Brotherhood     TV   \n",
       "1028           33   2.0                      Kimi no Na wa.  Movie   \n",
       "2999            8   5.0                         Steins;Gate     TV   \n",
       "418            35   8.0              Hunter x Hunter (2011)     TV   \n",
       "6572           77  12.0                      Koe no Katachi  Movie   \n",
       "2783           55  14.0                Clannad: After Story     TV   \n",
       "6553           95  15.0                             Gintama     TV   \n",
       "7403           22  18.0  Code Geass: Hangyaku no Lelouch R2     TV   \n",
       "7105           39  19.0       Sen to Chihiro no Kamikakushi  Movie   \n",
       "11640          37  21.0             Shigatsu wa Kimi no Uso     TV   \n",
       "9132           38  27.0                        Cowboy Bebop     TV   \n",
       "2068           79  29.0                       Mononoke Hime  Movie   \n",
       "13726           9  30.0     Code Geass: Hangyaku no Lelouch     TV   \n",
       "4193           57  35.0    Boku no Hero Academia 2nd Season     TV   \n",
       "10918          24  41.0          Tengen Toppa Gurren Lagann     TV   \n",
       "\n",
       "             source  scored_by  favorites  score      point  \n",
       "2555          Manga     733592     106895   9.25  72.536018  \n",
       "1028       Original     471398      34912   9.19  15.124394  \n",
       "2999   Visual novel     563857      92423   9.14  47.631607  \n",
       "418           Manga     403377      64375   9.11  23.656296  \n",
       "6572          Manga     296261      19815   9.04   5.306852  \n",
       "2783   Visual novel     363239      47380   9.01  15.506448  \n",
       "6553          Manga     141830      33781   9.01   4.316834  \n",
       "7403       Original     543904      44230   8.95  21.530902  \n",
       "7105       Original     498602      15412   8.92   6.854533  \n",
       "11640         Manga     413527      39664   8.88  14.565096  \n",
       "9132       Original     365465      39145   8.81  12.603698  \n",
       "2068       Original     333730      10689   8.80   3.139171  \n",
       "13726      Original     627740      63614   8.79  35.101153  \n",
       "4193          Manga     350352      11671   8.76   3.581927  \n",
       "10918      Original     449656      50040   8.74  19.665687  "
      ]
     },
     "execution_count": 37,
     "metadata": {},
     "output_type": "execute_result"
    }
   ],
   "source": [
    "top100anime = anime2[anime2.popularity!=0].sort_values(by='rank').head(100).loc[:,['popularity','rank', 'title',\n",
    "                                                                                          'type', 'source',\n",
    "                                                                                          'scored_by','favorites',\n",
    "                                                                                        'score']]\n",
    "\n",
    "rank100popularity = top100anime[(top100anime.popularity <= 100)]\n",
    "rank100popularity[\"point\"] = (rank100popularity[\"scored_by\"] * rank100popularity[\"favorites\"] *\n",
    "                                    rank100popularity[\"score\"]) / 10000000000\n",
    "rank100popularity.head(15)"
   ]
  },
  {
   "cell_type": "code",
   "execution_count": 38,
   "id": "a33c3c9e",
   "metadata": {},
   "outputs": [
    {
     "data": {
      "text/plain": [
       "['Shingeki no Kyojin',\n",
       " 'Shingeki no Kyojin',\n",
       " 'Shingeki no Kyojin',\n",
       " 'Shingeki no Kyojin',\n",
       " 'Shingeki no Kyojin',\n",
       " 'Shingeki no Kyojin',\n",
       " 'Shingeki no Kyojin',\n",
       " 'Shingeki no Kyojin',\n",
       " 'Shingeki no Kyojin',\n",
       " 'Shingeki no Kyojin']"
      ]
     },
     "execution_count": 38,
     "metadata": {},
     "output_type": "execute_result"
    }
   ],
   "source": [
    "title = rank100popularity['title'].astype(\"str\").tolist()\n",
    "point  = rank100popularity['point'].astype(\"int32\").tolist()\n",
    "\n",
    "list_rank100popularity = []\n",
    "\n",
    "for i in range(0, len(point)):\n",
    "    for j in range(0, point[i]):\n",
    "        list_rank100popularity.append(title[i])\n",
    "\n",
    "list_rank100popularity[-10:]\n"
   ]
  },
  {
   "cell_type": "code",
   "execution_count": 60,
   "id": "c6010158",
   "metadata": {},
   "outputs": [
    {
     "name": "stdout",
     "output_type": "stream",
     "text": [
      "Requirement already satisfied: wordcloud in c:\\users\\bhise\\anaconda3\\lib\\site-packages (1.8.1)\n",
      "Requirement already satisfied: numpy>=1.6.1 in c:\\users\\bhise\\anaconda3\\lib\\site-packages (from wordcloud) (1.20.1)\n",
      "Requirement already satisfied: pillow in c:\\users\\bhise\\anaconda3\\lib\\site-packages (from wordcloud) (8.2.0)\n",
      "Requirement already satisfied: matplotlib in c:\\users\\bhise\\anaconda3\\lib\\site-packages (from wordcloud) (3.3.4)\n",
      "Requirement already satisfied: cycler>=0.10 in c:\\users\\bhise\\anaconda3\\lib\\site-packages (from matplotlib->wordcloud) (0.10.0)\n",
      "Requirement already satisfied: pyparsing!=2.0.4,!=2.1.2,!=2.1.6,>=2.0.3 in c:\\users\\bhise\\anaconda3\\lib\\site-packages (from matplotlib->wordcloud) (2.4.7)\n",
      "Requirement already satisfied: kiwisolver>=1.0.1 in c:\\users\\bhise\\anaconda3\\lib\\site-packages (from matplotlib->wordcloud) (1.3.1)\n",
      "Requirement already satisfied: python-dateutil>=2.1 in c:\\users\\bhise\\anaconda3\\lib\\site-packages (from matplotlib->wordcloud) (2.8.1)\n",
      "Requirement already satisfied: six in c:\\users\\bhise\\anaconda3\\lib\\site-packages (from cycler>=0.10->matplotlib->wordcloud) (1.15.0)\n"
     ]
    },
    {
     "data": {
      "image/png": "[encoded data removed]",
      "text/plain": [
       "<Figure size 1008x504 with 1 Axes>"
      ]
     },
     "metadata": {},
     "output_type": "display_data"
    }
   ],
   "source": [
    "import plotly as py\n",
    "import plotly.express as px\n",
    "\n",
    "!pip install wordcloud\n",
    "from wordcloud import WordCloud\n",
    "\n",
    "from PIL import Image\n",
    "\n",
    "font_path = 'C:\\\\DCU\\\\New folder\\\\Coco-Sharp-Extrabold-Italic-trial.ttf'\n",
    "\n",
    "mask = np.array(Image.open('C:\\\\DCU\\\\in.JPG'))\n",
    "\n",
    "plt.subplots(figsize=(14,7))\n",
    "wordcloud = WordCloud(font_path=font_path, mask=mask,background_color='black',width=512,\n",
    "                      height=384).generate(\" \".join(list_rank100popularity))\n",
    "plt.imshow(wordcloud)\n",
    "plt.axis('off')\n",
    "plt.show()"
   ]
  },
  {
   "cell_type": "code",
   "execution_count": 40,
   "id": "fce72c07",
   "metadata": {},
   "outputs": [
    {
     "data": {
      "text/html": [
       "<div>\n",
       "<style scoped>\n",
       "    .dataframe tbody tr th:only-of-type {\n",
       "        vertical-align: middle;\n",
       "    }\n",
       "\n",
       "    .dataframe tbody tr th {\n",
       "        vertical-align: top;\n",
       "    }\n",
       "\n",
       "    .dataframe thead th {\n",
       "        text-align: right;\n",
       "    }\n",
       "</style>\n",
       "<table border=\"1\" class=\"dataframe\">\n",
       "  <thead>\n",
       "    <tr style=\"text-align: right;\">\n",
       "      <th></th>\n",
       "      <th>title</th>\n",
       "      <th>popularity</th>\n",
       "      <th>rank</th>\n",
       "    </tr>\n",
       "  </thead>\n",
       "  <tbody>\n",
       "    <tr>\n",
       "      <th>7913</th>\n",
       "      <td>Death Note</td>\n",
       "      <td>1</td>\n",
       "      <td>51.0</td>\n",
       "    </tr>\n",
       "    <tr>\n",
       "      <th>8123</th>\n",
       "      <td>Shingeki no Kyojin</td>\n",
       "      <td>2</td>\n",
       "      <td>110.0</td>\n",
       "    </tr>\n",
       "    <tr>\n",
       "      <th>6296</th>\n",
       "      <td>Sword Art Online</td>\n",
       "      <td>3</td>\n",
       "      <td>1259.0</td>\n",
       "    </tr>\n",
       "    <tr>\n",
       "      <th>2555</th>\n",
       "      <td>Fullmetal Alchemist: Brotherhood</td>\n",
       "      <td>4</td>\n",
       "      <td>1.0</td>\n",
       "    </tr>\n",
       "    <tr>\n",
       "      <th>8863</th>\n",
       "      <td>One Punch Man</td>\n",
       "      <td>5</td>\n",
       "      <td>44.0</td>\n",
       "    </tr>\n",
       "  </tbody>\n",
       "</table>\n",
       "</div>"
      ],
      "text/plain": [
       "                                 title  popularity    rank\n",
       "7913                        Death Note           1    51.0\n",
       "8123                Shingeki no Kyojin           2   110.0\n",
       "6296                  Sword Art Online           3  1259.0\n",
       "2555  Fullmetal Alchemist: Brotherhood           4     1.0\n",
       "8863                     One Punch Man           5    44.0"
      ]
     },
     "execution_count": 40,
     "metadata": {},
     "output_type": "execute_result"
    }
   ],
   "source": [
    "pop_anime = anime2[anime2.popularity!=0].sort_values(by='popularity').head(100).loc[:,['title','popularity','rank']]\n",
    "pop_anime.head()"
   ]
  },
  {
   "cell_type": "code",
   "execution_count": 53,
   "id": "c86c9008",
   "metadata": {},
   "outputs": [
    {
     "data": {
      "image/png": "[encoded data removed]",
      "text/plain": [
       "<Figure size 1800x504 with 1 Axes>"
      ]
     },
     "metadata": {},
     "output_type": "display_data"
    }
   ],
   "source": [
    "sns.set_theme(style=\"darkgrid\")\n",
    "f,ax1 = plt.subplots(figsize =(25,7))\n",
    "sns.pointplot(x='popularity',y='rank',data=pop_anime,color='blue')\n",
    "plt.grid()"
   ]
  },
  {
   "cell_type": "code",
   "execution_count": 42,
   "id": "f16b640c",
   "metadata": {},
   "outputs": [
    {
     "name": "stdout",
     "output_type": "stream",
     "text": [
      "                    title  popularity    rank\n",
      "5230  Sword Art Online II          17  2827.0\n",
      "                       title  popularity    rank\n",
      "4825  Highschool of the Dead          32  2184.0\n",
      "                title  popularity    rank\n",
      "12935  Tokyo Ghoul √A          41  1835.0\n"
     ]
    }
   ],
   "source": [
    "print(pop_anime[pop_anime[\"popularity\"]==17])\n",
    "print(pop_anime[pop_anime[\"popularity\"]==32])\n",
    "print(pop_anime[pop_anime[\"popularity\"]==41])\n"
   ]
  },
  {
   "cell_type": "code",
   "execution_count": 43,
   "id": "ac2f7b76",
   "metadata": {},
   "outputs": [
    {
     "data": {
      "text/plain": [
       "0      Comedy, Supernatural, Romance, Shounen\n",
       "1    Comedy, Parody, Romance, School, Shounen\n",
       "2               Comedy, Magic, School, Shoujo\n",
       "3      Comedy, Drama, Magic, Romance, Fantasy\n",
       "4             Comedy, Drama, Romance, Shounen\n",
       "Name: genre, dtype: object"
      ]
     },
     "execution_count": 43,
     "metadata": {},
     "output_type": "execute_result"
    }
   ],
   "source": [
    "genre_anime2 = anime2.genre\n",
    "genre_anime2.head()"
   ]
  },
  {
   "cell_type": "code",
   "execution_count": 45,
   "id": "dfb96faa",
   "metadata": {},
   "outputs": [],
   "source": [
    "list_genre = []\n",
    "\n",
    "splited_genre = []\n",
    "\n",
    "for i in genre_anime2.index:\n",
    "    for j in genre_anime2[i].split(\", \"):\n",
    "        splited_genre.append(j)\n",
    "        if j not in list_genre:\n",
    "            list_genre.append(j) "
   ]
  },
  {
   "cell_type": "code",
   "execution_count": 46,
   "id": "c0ec53bc",
   "metadata": {},
   "outputs": [
    {
     "data": {
      "text/plain": [
       "['Comedy',\n",
       " 'Supernatural',\n",
       " 'Romance',\n",
       " 'Shounen',\n",
       " 'Comedy',\n",
       " 'Parody',\n",
       " 'Romance',\n",
       " 'School',\n",
       " 'Shounen',\n",
       " 'Comedy']"
      ]
     },
     "execution_count": 46,
     "metadata": {},
     "output_type": "execute_result"
    }
   ],
   "source": [
    "splited_genre[0:10]"
   ]
  },
  {
   "cell_type": "code",
   "execution_count": 58,
   "id": "d6be8af6",
   "metadata": {},
   "outputs": [
    {
     "data": {
      "image/png": "[encoded data removed]",
      "text/plain": [
       "<Figure size 1080x720 with 1 Axes>"
      ]
     },
     "metadata": {},
     "output_type": "display_data"
    }
   ],
   "source": [
    "anime2_genres_count = pd.Series(splited_genre).value_counts() \n",
    "\n",
    "plt.figure(figsize=(15,10))\n",
    "sns.barplot(x=anime2_genres_count.index.tolist(), y=anime2_genres_count.tolist(), edgecolor='black', linewidth=2)\n",
    "plt.xlabel('Genres')\n",
    "plt.ylabel('Anime Count')\n",
    "plt.title('Popular Genres In the Anime Industry (Multi-label Genre Tags)') \n",
    "plt.xticks(rotation= 70) \n",
    "plt.show()"
   ]
  },
  {
   "cell_type": "code",
   "execution_count": 48,
   "id": "083b1727",
   "metadata": {},
   "outputs": [],
   "source": [
    "genre_firsts = []\n",
    "\n",
    "for i in genre_anime2.index:\n",
    "    genre_firsts.append(genre_anime2[i].split(\", \")[0])"
   ]
  },
  {
   "cell_type": "code",
   "execution_count": 59,
   "id": "4a7059f9",
   "metadata": {},
   "outputs": [
    {
     "data": {
      "image/png": "[encoded data removed]",
      "text/plain": [
       "<Figure size 864x864 with 1 Axes>"
      ]
     },
     "metadata": {},
     "output_type": "display_data"
    }
   ],
   "source": [
    "anime2_genres_firsts = pd.Series(genre_firsts).value_counts()   \n",
    "\n",
    "plt.figure(figsize=(12,12))\n",
    "sns.barplot(x=anime2_genres_firsts[0:25].tolist(), y=anime2_genres_firsts[0:25].index.tolist(), edgecolor='black', linewidth=2)\n",
    "plt.xlabel('Anime Count')\n",
    "plt.ylabel('Genres')\n",
    "plt.title('25 Of The Most Popular Genres In The Anime Industry (Considered First Genre Tag)') \n",
    "plt.show()"
   ]
  },
  {
   "cell_type": "code",
   "execution_count": null,
   "id": "09df2262",
   "metadata": {},
   "outputs": [],
   "source": []
  }
 ],
 "metadata": {
  "kernelspec": {
   "display_name": "Python 3",
   "language": "python",
   "name": "python3"
  },
  "language_info": {
   "codemirror_mode": {
    "name": "ipython",
    "version": 3
   },
   "file_extension": ".py",
   "mimetype": "text/x-python",
   "name": "python",
   "nbconvert_exporter": "python",
   "pygments_lexer": "ipython3",
   "version": "3.8.8"
  }
 },
 "nbformat": 4,
 "nbformat_minor": 5
}
